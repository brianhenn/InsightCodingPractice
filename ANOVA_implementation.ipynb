{
 "cells": [
  {
   "cell_type": "raw",
   "metadata": {},
   "source": [
    "### Notebook for implementation of ANOVA one-way tests in pure Python\n",
    "##### Brian Henn, Insight Data Science, August 2018\n",
    "\n",
    "References: \n",
    "https://en.wikipedia.org/wiki/F-test#One-way_ANOVA_example\n",
    "https://www.marsja.se/four-ways-to-conduct-one-way-anovas-using-python/\n",
    "http://www.stat.purdue.edu/~ghobbs/STAT_512/Lecture_Notes/ANOVA/Topic_20.pdf\n",
    "\n"
   ]
  },
  {
   "cell_type": "code",
   "execution_count": 1,
   "metadata": {},
   "outputs": [],
   "source": [
    "# import stuff\n",
    "\n",
    "#import numpy as np\n",
    "import pandas as pd\n",
    "from matplotlib import pyplot as plt\n",
    "from scipy import stats"
   ]
  },
  {
   "cell_type": "code",
   "execution_count": 2,
   "metadata": {},
   "outputs": [
    {
     "name": "stdout",
     "output_type": "stream",
     "text": [
      "(30, 3)\n",
      "group\n",
      "ctrl    10\n",
      "trt1    10\n",
      "trt2    10\n",
      "Name: weight, dtype: int64\n"
     ]
    },
    {
     "data": {
      "text/plain": [
       "Text(0.5,0.98,'')"
      ]
     },
     "execution_count": 2,
     "metadata": {},
     "output_type": "execute_result"
    },
    {
     "data": {
      "image/png": "[encoded data removed]",
      "text/plain": [
       "<Figure size 864x288 with 1 Axes>"
      ]
     },
     "metadata": {},
     "output_type": "display_data"
    }
   ],
   "source": [
    "# load test dataset from web\n",
    "data_url = 'https://vincentarelbundock.github.io/Rdatasets/csv/datasets/PlantGrowth.csv'\n",
    "plants = pd.read_csv(data_url)\n",
    "\n",
    "# print out some basic info about this dataframe\n",
    "print(plants.shape)\n",
    "print(plants.groupby('group')['weight'].count())\n",
    "\n",
    "# make a boxplot by the group\n",
    "fig = plt.figure()\n",
    "fig.set_size_inches([12,4])\n",
    "ax = fig.subplots(1)\n",
    "plants.boxplot('weight', by='group', ax=ax)\n",
    "ax.set_ylim([0,8])\n",
    "ax.set_title('Weight by Group', fontsize=20)\n",
    "plt.suptitle('')"
   ]
  },
  {
   "cell_type": "code",
   "execution_count": 3,
   "metadata": {},
   "outputs": [
    {
     "name": "stdout",
     "output_type": "stream",
     "text": [
      "[10 10 10]\n"
     ]
    }
   ],
   "source": [
    "grps = pd.unique(plants.group.values)\n",
    "d_data = {grp:plants['weight'][plants.group == grp] for grp in grps}\n",
    " \n",
    "k = len(pd.unique(plants.group))  # number of conditions\n",
    "N = len(plants.values)  # conditions times participants\n",
    "n = plants.groupby('group').size().values #Participants in each condition\n",
    "\n",
    "print(n)"
   ]
  },
  {
   "cell_type": "code",
   "execution_count": 8,
   "metadata": {},
   "outputs": [
    {
     "name": "stdout",
     "output_type": "stream",
     "text": [
      "10.492090000000001\n",
      "0.38859592592592596\n",
      "3.766340000000002\n",
      "1.883170000000001\n"
     ]
    }
   ],
   "source": [
    "# now let's manually compute the ANOVA parameters to conduct a one-way test between the group and weight\n",
    "\n",
    "# first, sum of squared errors of the model (SSE)\n",
    "# i.e., the sum of squared differences between each point and its group mean\n",
    "\n",
    "for i, group in enumerate(plants['group'].values):\n",
    "    #print(group, i)\n",
    "    plants.loc[i, 'group_mean'] = plants[plants['group'] == group].weight.values.mean()\n",
    "    \n",
    "SSE = 0\n",
    "for grp in grps:\n",
    "    SSE = SSE + sum(\n",
    "        (plants[plants['group'] == grp].group_mean.values - plants[plants['group'] == grp].weight.values)**2)\n",
    "\n",
    "print(SSE)\n",
    "\n",
    "# now compute MSE\n",
    "df_model = N - k\n",
    "MSE = SSE/df_model\n",
    "\n",
    "print(MSE)\n",
    "\n",
    "# next, let's compute the treatment squared errors (differences between groups)\n",
    "SSTr = 0\n",
    "y_barbar = plants.weight.values.mean()\n",
    "for i, grp in enumerate(grps):\n",
    "    SSTr = SSTr + n[i]*(y_barbar - plants[plants['group'] == grp].group_mean.values[0])**2\n",
    "    \n",
    "#print(y_barbar)\n",
    "print(SSTr)\n",
    "\n",
    "\n",
    "#SSbetween = (sum(plants.groupby('group').sum()['weight']**2)/n[0]) - (plants['weight'].sum()**2)/N\n",
    "#print(SSbetween)\n",
    "\n",
    "# now compute MSTr\n",
    "df_groups = k - 1\n",
    "MSTr = SSTr/df_groups\n",
    "print(MSTr)\n",
    "\n",
    "#SSbetween = (sum(plants.groupby('group').sum()['weight']**2)/n[0]) - (plants['weight'].sum()**2)/N\n",
    "#print(SSbetween)"
   ]
  },
  {
   "cell_type": "code",
   "execution_count": 9,
   "metadata": {},
   "outputs": [
    {
     "name": "stdout",
     "output_type": "stream",
     "text": [
      "4.846087862380138\n",
      "0.01590995832562281\n"
     ]
    }
   ],
   "source": [
    "# now compute the F-value and the p-value using the scipy F-distribution\n",
    "\n",
    "F = MSTr/MSE\n",
    "print(F)\n",
    "\n",
    "p = 1 - stats.f.cdf(F, df_groups, df_model)\n",
    "print(p)"
   ]
  }
 ],
 "metadata": {
  "kernelspec": {
   "display_name": "Python [conda env:insight]",
   "language": "python",
   "name": "conda-env-insight-py"
  },
  "language_info": {
   "codemirror_mode": {
    "name": "ipython",
    "version": 3
   },
   "file_extension": ".py",
   "mimetype": "text/x-python",
   "name": "python",
   "nbconvert_exporter": "python",
   "pygments_lexer": "ipython3",
   "version": "3.6.5"
  }
 },
 "nbformat": 4,
 "nbformat_minor": 2
}
