{
 "cells": [
  {
   "cell_type": "code",
   "execution_count": 1,
   "metadata": {},
   "outputs": [],
   "source": [
    "import numpy as np"
   ]
  },
  {
   "cell_type": "code",
   "execution_count": 13,
   "metadata": {},
   "outputs": [],
   "source": [
    "# implement stacks, with push/pop functions\n",
    "\n",
    "class stack:\n",
    "    def __init__(self, max_size):\n",
    "        self.items = []\n",
    "        self.max_size = max_size\n",
    "        \n",
    "    def push(self, x):\n",
    "        if len(self.items) < self.max_size:\n",
    "            self.items.append(x)\n",
    "        else: \n",
    "            print('Max size exceeded.')\n",
    "    \n",
    "    def pop(self):\n",
    "        if len(self.items) > 0:\n",
    "            val = self.items[-1]\n",
    "            self.items = self.items[0:-1]\n",
    "            return val\n",
    "        else:\n",
    "            print('Min size violated.')\n",
    "    \n",
    "    def size(self):\n",
    "        return size(self)\n",
    "        \n",
    "    "
   ]
  },
  {
   "cell_type": "code",
   "execution_count": 11,
   "metadata": {},
   "outputs": [
    {
     "name": "stdout",
     "output_type": "stream",
     "text": [
      "Max size exceeded.\n",
      "[4, 10, 3, 0, 8]\n",
      "[4, 10, 3, 0]\n",
      "8\n",
      "<bound method stack.size of <__main__.stack object at 0x7f105c69f1d0>>\n"
     ]
    }
   ],
   "source": [
    "mystack = stack(5)\n",
    "\n",
    "mystack.push(4)\n",
    "mystack.push(10)\n",
    "mystack.push(3)\n",
    "mystack.push(0)\n",
    "mystack.push(8)\n",
    "mystack.push(9)\n",
    "print(mystack.items)\n",
    "x = mystack.pop()\n",
    "print(mystack.items)\n",
    "print(x)\n",
    "print(mystack.size())"
   ]
  },
  {
   "cell_type": "code",
   "execution_count": 12,
   "metadata": {},
   "outputs": [],
   "source": [
    "# implement queues, with enqueue/dequeue\n",
    "\n",
    "class queue:\n",
    "    def __init__(self):\n",
    "        self.items = []\n",
    "        \n",
    "    def enqueue(self, x):\n",
    "        self.items.append(x)\n",
    "        \n",
    "    def dequeue(self):\n",
    "        val = self.items[0]\n",
    "        self.items = self.items[1:]\n",
    "        return val\n",
    "    \n",
    "    def size(self):\n",
    "        return size(self.items)"
   ]
  },
  {
   "cell_type": "code",
   "execution_count": 6,
   "metadata": {},
   "outputs": [
    {
     "name": "stdout",
     "output_type": "stream",
     "text": [
      "[4, 2, 0]\n",
      "[2, 0]\n",
      "4\n"
     ]
    }
   ],
   "source": [
    "myqueue = queue()\n",
    "#print(myqueue.items)\n",
    "\n",
    "myqueue.enqueue(4)\n",
    "myqueue.enqueue(2)\n",
    "myqueue.enqueue(0)\n",
    "print(myqueue.items)\n",
    "\n",
    "x = myqueue.dequeue()\n",
    "print(myqueue.items)\n",
    "print(x)"
   ]
  },
  {
   "cell_type": "code",
   "execution_count": 61,
   "metadata": {},
   "outputs": [],
   "source": [
    "# implement hash table with hash function, insert and search methods\n",
    "\n",
    "class hashtable:\n",
    "    def __init__(self):\n",
    "        self.table = {}\n",
    "        \n",
    "    def insert(self, insert_value):\n",
    "        if self._hashfunction(insert_value) in self.table:\n",
    "            print('\\nCollision!')\n",
    "        else:\n",
    "            self.table[self._hashfunction(insert_value)] = insert_value\n",
    "        \n",
    "    def _hashfunction(self, value):\n",
    "        return '%03u' % ((value**10) % 1000)\n",
    "    \n",
    "    def search(self, search_value):\n",
    "        if self._hashfunction(search_value) in self.table:\n",
    "            print('\\n%u in table.' % search_value)\n",
    "        else:\n",
    "            print('\\n%u not in table.' % search_value)\n",
    "    \n",
    "    def print_table(self):\n",
    "        for key in self.table:\n",
    "            print('\\n%s: %u' % (key, self.table.get(key)))                "
   ]
  },
  {
   "cell_type": "code",
   "execution_count": 62,
   "metadata": {},
   "outputs": [
    {
     "name": "stdout",
     "output_type": "stream",
     "text": [
      "\n",
      "401: 9\n",
      "\n",
      "176: 94\n",
      "\n",
      "000: 10\n",
      "\n",
      "11 not in table.\n"
     ]
    }
   ],
   "source": [
    "my_table = hashtable()\n",
    "\n",
    "my_table.insert(9)\n",
    "my_table.insert(94)\n",
    "my_table.insert(10)\n",
    "#my_table.insert(100)\n",
    "\n",
    "my_table.print_table()\n",
    "\n",
    "my_table.search(11)"
   ]
  },
  {
   "cell_type": "code",
   "execution_count": 14,
   "metadata": {},
   "outputs": [],
   "source": [
    "# linked list \n",
    "\n",
    "class Node:\n",
    "    def __init__(self, x):\n",
    "        self.val = x\n",
    "        self.next = None\n",
    "        \n",
    "    def traverse(self):\n",
    "        node = self\n",
    "        while node != None:\n",
    "            print(node.val)\n",
    "            node = node.next\n",
    "            \n",
    "    def insert(self, x, k):\n",
    "        counter = 0\n",
    "        node = self\n",
    "        while counter < k:\n",
    "            node = node.next\n",
    "            counter += 1\n",
    "        temp = node.next\n",
    "        node.next = Node(x)\n",
    "        node = node.next\n",
    "        node.next = temp\n",
    "        \n",
    "    def reverse(self):\n",
    "        return 0\n",
    "            \n",
    "            "
   ]
  },
  {
   "cell_type": "code",
   "execution_count": 16,
   "metadata": {},
   "outputs": [
    {
     "name": "stdout",
     "output_type": "stream",
     "text": [
      "3\n",
      "5\n",
      "0\n"
     ]
    }
   ],
   "source": [
    "node1 = Node(3)\n",
    "node2 = Node(5)\n",
    "node3 = Node(0)\n",
    "\n",
    "node1.next = node2\n",
    "node2.next = node3\n",
    "\n",
    "head = node1\n",
    "head.traverse()\n",
    "\n",
    "#head.insert(4,0)\n",
    "\n"
   ]
  },
  {
   "cell_type": "code",
   "execution_count": null,
   "metadata": {},
   "outputs": [],
   "source": [
    "# implement a binary search tree class\n",
    "\n"
   ]
  }
 ],
 "metadata": {
  "kernelspec": {
   "display_name": "Python [default]",
   "language": "python",
   "name": "python3"
  },
  "language_info": {
   "codemirror_mode": {
    "name": "ipython",
    "version": 3
   },
   "file_extension": ".py",
   "mimetype": "text/x-python",
   "name": "python",
   "nbconvert_exporter": "python",
   "pygments_lexer": "ipython3",
   "version": "3.6.5"
  }
 },
 "nbformat": 4,
 "nbformat_minor": 2
}
