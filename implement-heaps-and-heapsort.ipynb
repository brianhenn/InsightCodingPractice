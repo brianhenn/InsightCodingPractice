{
 "cells": [
  {
   "cell_type": "markdown",
   "metadata": {},
   "source": [
    "#### implemntation of heaps and heapsort in python\n",
    "Brian Henn, Insight Data Science, July 2018"
   ]
  },
  {
   "cell_type": "code",
   "execution_count": 1,
   "metadata": {},
   "outputs": [],
   "source": [
    "class maxheap():\n",
    "    \n",
    "    # define a heap creation function as a first step\n",
    "    def __init__(self):\n",
    "        self.heap_list = [0]\n",
    "        self.heap_size = 0   \n",
    "        \n",
    "    # define a perc_up function to maintain heap order\n",
    "    def perc_up(self,i):\n",
    "        while i // 2 > 0:\n",
    "            print(i)\n",
    "            if self.heap_list[i] > self.heap_list[i // 2]:\n",
    "                self.heap_list[i], self.heap_list[i // 2] = self.heap_list[i // 2], self.heap_list[i]\n",
    "                print('Swap up!')\n",
    "            i = i // 2\n",
    "            \n",
    "    # define a perc_down\n",
    "    def perc_down(self,i):\n",
    "        while 2*i <= self.heap_size:\n",
    "            mc = self.max_child(i)\n",
    "            if self.heap_list[mc] > self.heap_list[i]:\n",
    "                self.heap_list[i], self.heap_list[mc] = self.heap_list[mc], self.heap_list[i]\n",
    "                print('Swap down!')\n",
    "            i = mc     \n",
    "    \n",
    "    def max_child(self,i):\n",
    "        if self.heap_size < (2*i + 1):\n",
    "            return 2*i\n",
    "        elif self.heap_list[2*i] > self.heap_list[2*i + 1]:\n",
    "            return 2*i\n",
    "        else:\n",
    "            return 2*i + 1\n",
    "    \n",
    "    # define a heap insertion function that adds a value to a heap\n",
    "    def heap_insert(self,x):\n",
    "        self.heap_list.append(x)\n",
    "        self.heap_size += 1\n",
    "        self.perc_up(self.heap_size)\n",
    "        \n",
    "    # define a heap root removal (pop) function\n",
    "    def del_max(self):\n",
    "        retval = self.heap_list[1]\n",
    "        self.heap_list[1] = self.heap_list[self.heap_size]\n",
    "        self.heap_list.pop()\n",
    "        self.heap_size -= 1\n",
    "        self.perc_down(1)\n",
    "        return retval\n",
    "        \n",
    "    # define a heap printing function for error checking\n",
    "    def heap_print(self):\n",
    "        print(self.heap_list[1:])\n",
    "        \n",
    "    # define a function to build a max heap from a list of numbers\n",
    "    def build_max_heap(self,arr):\n",
    "        i = len(arr)//2\n",
    "        self.heap_list = [0] + arr[:]\n",
    "        self.heap_size = len(arr)\n",
    "        while i > 0:\n",
    "            self.perc_down(i)\n",
    "            i -= 1\n",
    "    \n",
    "    #finally, define heap sort using the del_max tool above     \n",
    "    def heap_sort(self):\n",
    "        sorted_arr = []\n",
    "        while self.heap_size > 0:\n",
    "            sorted_arr.append(self.del_max())\n",
    "            print(sorted_arr)\n",
    "        return sorted_arr"
   ]
  },
  {
   "cell_type": "code",
   "execution_count": 2,
   "metadata": {},
   "outputs": [
    {
     "name": "stdout",
     "output_type": "stream",
     "text": [
      "5\n",
      "Swap down!\n",
      "Swap down!\n",
      "Swap down!\n",
      "[11, 11, 6, 4, 3]\n",
      "Swap down!\n",
      "Swap down!\n",
      "[11]\n",
      "Swap down!\n",
      "[11, 11]\n",
      "Swap down!\n",
      "[11, 11, 6]\n",
      "[11, 11, 6, 4]\n",
      "[11, 11, 6, 4, 3]\n"
     ]
    },
    {
     "data": {
      "text/plain": [
       "[11, 11, 6, 4, 3]"
      ]
     },
     "execution_count": 2,
     "metadata": {},
     "output_type": "execute_result"
    }
   ],
   "source": [
    "# let's test things\n",
    "\n",
    "arr = [4, 3, 6, 11, 11]\n",
    "print(len(arr))\n",
    "\n",
    "myHeap = maxheap()\n",
    "myHeap.build_max_heap(arr)\n",
    "myHeap.heap_print()\n",
    "#maxval = myHeap.del_max()\n",
    "#print(maxval)\n",
    "#myHeap.heap_print()\n",
    "myHeap.heap_sort()\n"
   ]
  },
  {
   "cell_type": "code",
   "execution_count": null,
   "metadata": {},
   "outputs": [],
   "source": []
  }
 ],
 "metadata": {
  "kernelspec": {
   "display_name": "Python [conda env:insight]",
   "language": "python",
   "name": "conda-env-insight-py"
  },
  "language_info": {
   "codemirror_mode": {
    "name": "ipython",
    "version": 3
   },
   "file_extension": ".py",
   "mimetype": "text/x-python",
   "name": "python",
   "nbconvert_exporter": "python",
   "pygments_lexer": "ipython3",
   "version": "3.6.5"
  }
 },
 "nbformat": 4,
 "nbformat_minor": 2
}
